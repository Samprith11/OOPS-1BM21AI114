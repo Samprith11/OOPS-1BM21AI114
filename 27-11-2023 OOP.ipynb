{
 "cells": [
  {
   "cell_type": "code",
   "execution_count": 3,
   "id": "255b1ecd",
   "metadata": {},
   "outputs": [
    {
     "name": "stdout",
     "output_type": "stream",
     "text": [
      "Employee Name is: Samprith\n",
      "Employee Age is: 20\n",
      "Employee Salary is: 100000\n"
     ]
    }
   ],
   "source": [
    "class Employee:\n",
    "    def __init__(self,age,name,salary):\n",
    "        self.age = age\n",
    "        self.name = name\n",
    "        self.salary = salary\n",
    "        \n",
    "employee = Employee(20,\"Samprith\",100000)\n",
    "\n",
    "print(\"Employee Name is:\",employee.name)\n",
    "print(\"Employee Age is:\",employee.age)\n",
    "print(\"Employee Salary is:\",employee.salary)"
   ]
  },
  {
   "cell_type": "code",
   "execution_count": 8,
   "id": "1a782e2a",
   "metadata": {
    "scrolled": true
   },
   "outputs": [
    {
     "name": "stdout",
     "output_type": "stream",
     "text": [
      "Samprith\n",
      "20\n",
      "O\n"
     ]
    }
   ],
   "source": [
    "class Student:\n",
    "    def __init__(self):\n",
    "        self.name = \"Samprith\"\n",
    "        self.age = 20\n",
    "        self.grade = 'O'\n",
    "    def prints(self):\n",
    "        print(self.name)\n",
    "        print(self.age)\n",
    "        print(self.grade)\n",
    "        \n",
    "object = Student()\n",
    "\n",
    "object.prints()"
   ]
  },
  {
   "cell_type": "code",
   "execution_count": 9,
   "id": "6a55a171",
   "metadata": {},
   "outputs": [
    {
     "name": "stdout",
     "output_type": "stream",
     "text": [
      "10\n",
      "20\n"
     ]
    }
   ],
   "source": [
    "class Rectangle:\n",
    "    def __init__(self,length,breadth):\n",
    "        self.length = length\n",
    "        self.breadth = breadth\n",
    "    def prints(self):\n",
    "        print(self.length)\n",
    "        print(self.breadth)\n",
    "        \n",
    "object = Rectangle(10,20)\n",
    "\n",
    "object.prints()"
   ]
  },
  {
   "cell_type": "code",
   "execution_count": 10,
   "id": "98096a3d",
   "metadata": {},
   "outputs": [
    {
     "name": "stdout",
     "output_type": "stream",
     "text": [
      "(person.name)is(person.age) years old.\n",
      "Happy Birthday, (self.name)! You are now (self.age) years old.\n",
      "After the birthday, (person.name) is now (person.age) years old.\n"
     ]
    }
   ],
   "source": [
    "class BirthdayBoy:\n",
    "    def __init__(self,name,age):\n",
    "        self.name = name\n",
    "        self.age = age\n",
    "        \n",
    "    def birthday(self):\n",
    "        self.age += 1\n",
    "        print(f\"Happy Birthday, (self.name)! You are now (self.age) years old.\")\n",
    "        \n",
    "#Create an instance of BirthdayBoy\n",
    "person = BirthdayBoy(name=\"John\",age=25)\n",
    "\n",
    "#Print initial information\n",
    "print(f\"(person.name)is(person.age) years old.\")\n",
    "\n",
    "#Celebrate the birthday\n",
    "person.birthday()\n",
    "\n",
    "# Print updated information\n",
    "print(f\"After the birthday, (person.name) is now (person.age) years old.\")"
   ]
  },
  {
   "cell_type": "code",
   "execution_count": 19,
   "id": "b787bd39",
   "metadata": {},
   "outputs": [
    {
     "name": "stdout",
     "output_type": "stream",
     "text": [
      "Happy Birthday \n",
      "May god bless you \n"
     ]
    }
   ],
   "source": [
    "class Songs:\n",
    "    def __init__(self,lyrics):\n",
    "        self.lyrics = lyrics\n",
    "        \n",
    "    def sing_me_a_song(self):\n",
    "        for i in self.lyrics:\n",
    "            print(i)\n",
    "        \n",
    "happy_bday = [\n",
    "    \"Happy Birthday \",\n",
    "    \"May god bless you \"   \n",
    "]\n",
    "\n",
    "\n",
    "objects = Songs(happy_bday)\n",
    "objects.sing_me_a_song()"
   ]
  },
  {
   "cell_type": "code",
   "execution_count": 20,
   "id": "a7a7ea7d",
   "metadata": {},
   "outputs": [],
   "source": [
    "class Dog:\n",
    "    def __init__(self,name,size,breed,dob):\n",
    "        self.name = name\n",
    "        self.size = size\n",
    "        self.breed = \"Unknown\"\n",
    "        self.dob = \"Unknown\"\n",
    "        \n",
    "    def display(self):\n",
    "        print(\"Dog Details:\")\n",
    "        print(\"Name of dog is {Self.name}\".format(self.name))\n",
    "        "
   ]
  },
  {
   "cell_type": "code",
   "execution_count": null,
   "id": "7f1ca579",
   "metadata": {},
   "outputs": [],
   "source": []
  },
  {
   "cell_type": "code",
   "execution_count": 21,
   "id": "6d6b4a66",
   "metadata": {},
   "outputs": [
    {
     "name": "stdout",
     "output_type": "stream",
     "text": [
      "Length of the room:30\n",
      "Breadth of the room:40\n",
      "Area of the given room is:  1200\n"
     ]
    }
   ],
   "source": [
    "class Room:\n",
    "    def __init__(self,length,breadth):\n",
    "        self.length = length\n",
    "        self.breadth = breadth\n",
    "        \n",
    "    def calculate_area(self):\n",
    "        print(\"Area of the given room is: \",self.length*self.breadth)\n",
    "        \n",
    "r = Room(20,30)\n",
    "r.length = int(input(\"Length of the room:\"))\n",
    "r.breadth = int(input(\"Breadth of the room:\"))\n",
    "\n",
    "r.calculate_area()"
   ]
  },
  {
   "cell_type": "code",
   "execution_count": null,
   "id": "915c721d",
   "metadata": {},
   "outputs": [],
   "source": []
  }
 ],
 "metadata": {
  "kernelspec": {
   "display_name": "Python 3 (ipykernel)",
   "language": "python",
   "name": "python3"
  },
  "language_info": {
   "codemirror_mode": {
    "name": "ipython",
    "version": 3
   },
   "file_extension": ".py",
   "mimetype": "text/x-python",
   "name": "python",
   "nbconvert_exporter": "python",
   "pygments_lexer": "ipython3",
   "version": "3.9.12"
  }
 },
 "nbformat": 4,
 "nbformat_minor": 5
}
