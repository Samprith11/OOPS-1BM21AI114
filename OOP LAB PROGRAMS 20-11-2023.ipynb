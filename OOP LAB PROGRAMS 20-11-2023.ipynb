{
 "cells": [
  {
   "cell_type": "code",
   "execution_count": 3,
   "id": "f57e1b9a",
   "metadata": {},
   "outputs": [
    {
     "name": "stdout",
     "output_type": "stream",
     "text": [
      "Largest element is: 10\n"
     ]
    }
   ],
   "source": [
    "def max1(list1):\n",
    "    max = list1[0]\n",
    "    for x in list1:\n",
    "        if x > max:\n",
    "            max = x\n",
    "            \n",
    "    return max\n",
    "\n",
    "list1 = [10,2,4,7,3]\n",
    "print(\"Largest element is:\",max1(list1))"
   ]
  },
  {
   "cell_type": "code",
   "execution_count": 6,
   "id": "235f4590",
   "metadata": {},
   "outputs": [
    {
     "name": "stdout",
     "output_type": "stream",
     "text": [
      "Input length:3\n",
      "Area of hexagon is: 23.382685902179844\n"
     ]
    }
   ],
   "source": [
    "import math \n",
    "\n",
    "def hexagon_area(s):\n",
    "    return ((3 * math.sqrt(3) * (s * s)) / 2)\n",
    "\n",
    "s = int(input(\"Input length:\"))\n",
    "print(\"Area of hexagon is:\", hexagon_area(s))"
   ]
  },
  {
   "cell_type": "code",
   "execution_count": 14,
   "id": "311c7a6d",
   "metadata": {},
   "outputs": [
    {
     "name": "stdout",
     "output_type": "stream",
     "text": [
      "Invalid Email\n",
      "Valid Email\n",
      "Invalid Email\n"
     ]
    }
   ],
   "source": [
    "import re\n",
    "\n",
    "regex = r'\\b[A-Za-z0-9._%+-]+@[A-Za-z0-9.-]+\\.[A-Z|a-z]{2,7}\\b'\n",
    "\n",
    "def check(email):\n",
    "\n",
    "    if(re.fullmatch(regex, email)):\n",
    "        print(\"Valid Email\")\n",
    "\n",
    "    else:\n",
    "        print(\"Invalid Email\")\n",
    "\n",
    "\n",
    "if __name__ == '__main__':\n",
    "\n",
    "    \n",
    "    email = \"/@google.com\"\n",
    "\n",
    "    check(email)\n",
    "\n",
    "    email = \"my.ownsite@our-earth.co\"\n",
    "    check(email)\n",
    "\n",
    "    email = \"ankitrai326.com\"\n",
    "    check(email)\n"
   ]
  },
  {
   "cell_type": "code",
   "execution_count": 15,
   "id": "c8700613",
   "metadata": {},
   "outputs": [
    {
     "name": "stdout",
     "output_type": "stream",
     "text": [
      "Text : ATTACKATONCE\n",
      "Shift : 4\n",
      "Cipher: EXXEGOEXSRGI\n"
     ]
    }
   ],
   "source": [
    "def encrypt(text,s):\n",
    "    result = \"\"\n",
    "\n",
    "    for i in range(len(text)):\n",
    "        char = text[i]\n",
    "\n",
    "\n",
    "        if (char.isupper()):\n",
    "            result += chr((ord(char) + s-65) % 26 + 65)\n",
    "\n",
    "\n",
    "        else:\n",
    "            result += chr((ord(char) + s - 97) % 26 + 97)\n",
    "\n",
    "    return result\n",
    "\n",
    "\n",
    "text = \"ATTACKATONCE\"\n",
    "s = 4\n",
    "print (\"Text : \" + text)\n",
    "print (\"Shift : \" + str(s))\n",
    "print (\"Cipher: \" + encrypt(text,s))\n",
    "\n",
    "\n"
   ]
  },
  {
   "cell_type": "code",
   "execution_count": 19,
   "id": "b53dfaeb",
   "metadata": {
    "scrolled": true
   },
   "outputs": [
    {
     "name": "stdout",
     "output_type": "stream",
     "text": [
      "No of distinct palindromic substrings are: 19\n",
      "p\n",
      "y\n",
      "n\n",
      "s\n",
      "o\n",
      "i\n",
      "r\n",
      "alayala\n",
      "aya\n",
      "a\n",
      "d\n",
      "malayalam\n",
      "l\n",
      " a \n",
      "layal\n",
      "ala\n",
      "m\n",
      "e\n",
      " \n"
     ]
    }
   ],
   "source": [
    "def palindromeSubStrs(s):\n",
    "    n = len(s)\n",
    "    dp = [[False] * n for _ in range(n)]\n",
    "    distinct_palindromes = set()\n",
    "\n",
    "    for gap in range(n):\n",
    "        for i in range(n - gap):\n",
    "            j = i + gap\n",
    "            if gap == 0:\n",
    "                dp[i][j] = True\n",
    "            elif gap == 1:\n",
    "                dp[i][j] = s[i] == s[j]\n",
    "            else:\n",
    "                dp[i][j] = s[i] == s[j] and dp[i + 1][j - 1]\n",
    "\n",
    "            if dp[i][j]:\n",
    "                distinct_palindromes.add(s[i:j + 1])\n",
    "\n",
    "    return distinct_palindromes\n",
    "\n",
    "\n",
    "if __name__ == \"__main__\":\n",
    "    s = \"malayalam is a palindrome\"\n",
    "    palindromes = palindromeSubStrs(s)\n",
    "    print(\"No of distinct palindromic substrings are:\", len(palindromes))\n",
    "    for palindrome in palindromes:\n",
    "        print(palindrome)\n"
   ]
  },
  {
   "cell_type": "code",
   "execution_count": 18,
   "id": "c87649bb",
   "metadata": {},
   "outputs": [
    {
     "name": "stdout",
     "output_type": "stream",
     "text": [
      "True\n",
      "False\n",
      "True\n",
      "False\n",
      "\n",
      "Check whether the said classes are subclasses of the built-in object class or not.\n",
      "True\n",
      "True\n"
     ]
    }
   ],
   "source": [
    "class Student:\n",
    "    pass \n",
    "class Marks:\n",
    "    pass \n",
    "student1 = Student()\n",
    "marks1 = Marks()\n",
    "print(isinstance(student1, Student))\n",
    "print(isinstance(marks1, Student))\n",
    "print(isinstance(marks1, Marks)) \n",
    "print(isinstance(student1, Marks))\n",
    "print(\"\\nCheck whether the said classes are subclasses of the built-in object class or not.\")\n",
    "print(issubclass(Student, object))\n",
    "print(issubclass(Marks, object)) "
   ]
  },
  {
   "cell_type": "code",
   "execution_count": null,
   "id": "93206a0b",
   "metadata": {},
   "outputs": [],
   "source": []
  }
 ],
 "metadata": {
  "kernelspec": {
   "display_name": "Python 3 (ipykernel)",
   "language": "python",
   "name": "python3"
  },
  "language_info": {
   "codemirror_mode": {
    "name": "ipython",
    "version": 3
   },
   "file_extension": ".py",
   "mimetype": "text/x-python",
   "name": "python",
   "nbconvert_exporter": "python",
   "pygments_lexer": "ipython3",
   "version": "3.9.12"
  }
 },
 "nbformat": 4,
 "nbformat_minor": 5
}
